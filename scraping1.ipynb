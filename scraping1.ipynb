{
 "cells": [
  {
   "cell_type": "code",
   "execution_count": 43,
   "id": "ea4f4f33-cd36-4ea0-a3bf-e0642f7c4a91",
   "metadata": {},
   "outputs": [],
   "source": [
    "import requests\n",
    "from bs4 import BeautifulSoup\n",
    "from urllib.request import urlopen as uReq\n",
    "import os "
   ]
  },
  {
   "cell_type": "code",
   "execution_count": 44,
   "id": "37c4282e-50ad-44cd-b037-65d6319563c7",
   "metadata": {},
   "outputs": [
    {
     "name": "stdout",
     "output_type": "stream",
     "text": [
      "Requirement already satisfied: requests in c:\\users\\my\\anaconda3\\lib\\site-packages (2.31.0)\n",
      "Requirement already satisfied: idna<4,>=2.5 in c:\\users\\my\\anaconda3\\lib\\site-packages (from requests) (2.10)\n",
      "Requirement already satisfied: certifi>=2017.4.17 in c:\\users\\my\\anaconda3\\lib\\site-packages (from requests) (2023.11.17)\n",
      "Requirement already satisfied: charset-normalizer<4,>=2 in c:\\users\\my\\anaconda3\\lib\\site-packages (from requests) (3.3.2)\n",
      "Requirement already satisfied: urllib3<3,>=1.21.1 in c:\\users\\my\\anaconda3\\lib\\site-packages (from requests) (2.1.0)\n",
      "Note: you may need to restart the kernel to use updated packages.\n"
     ]
    }
   ],
   "source": [
    "pip install requests"
   ]
  },
  {
   "cell_type": "code",
   "execution_count": 45,
   "id": "904b42d5-b595-43af-97d9-23d8e741c442",
   "metadata": {},
   "outputs": [],
   "source": [
    "save_dir = \"images/\"\n",
    "if not os.path.exists(save_dir):\n",
    "    os.makedirs(save_dir)"
   ]
  },
  {
   "cell_type": "code",
   "execution_count": 46,
   "id": "e3315262-f57e-467f-baa6-082612d4fb0f",
   "metadata": {},
   "outputs": [],
   "source": [
    "query = \"india\"\n",
    "response = requests.get(f\"https://www.google.com/search?q={query}&sxsrf=AJOqlzUuff1RXi2mm8I_OqOwT9VjfIDL7w:1676996143273&source=lnms&tbm=isch&sa=X&ved=2ahUKEwiq-qK7gaf9AhXUgVYBHYReAfYQ_AUoA3oECAEQBQ&biw=1920&bih=937&dpr=1#imgrc=1th7VhSesfMJ4M\")\n"
   ]
  },
  {
   "cell_type": "code",
   "execution_count": 47,
   "id": "12b47e68-5d44-45f5-874d-d1cef58ba0e7",
   "metadata": {},
   "outputs": [
    {
     "data": {
      "text/plain": [
       "<Response [200]>"
      ]
     },
     "execution_count": 47,
     "metadata": {},
     "output_type": "execute_result"
    }
   ],
   "source": [
    "response"
   ]
  },
  {
   "cell_type": "code",
   "execution_count": 48,
   "id": "9231ed4f-a5b1-49a1-aa0a-c8f3637afaf9",
   "metadata": {},
   "outputs": [],
   "source": [
    "soup = BeautifulSoup(response.content,'html.parser')"
   ]
  },
  {
   "cell_type": "code",
   "execution_count": 49,
   "id": "43813196-6b00-4983-8d89-a496beb1cd33",
   "metadata": {},
   "outputs": [],
   "source": [
    "images_tages = soup.find_all(\"img\")"
   ]
  },
  {
   "cell_type": "code",
   "execution_count": 50,
   "id": "49f3fa88-ed34-4535-9d13-e62f5009d5d8",
   "metadata": {},
   "outputs": [
    {
     "data": {
      "text/plain": [
       "21"
      ]
     },
     "execution_count": 50,
     "metadata": {},
     "output_type": "execute_result"
    }
   ],
   "source": [
    "len(images_tages)"
   ]
  },
  {
   "cell_type": "code",
   "execution_count": 51,
   "id": "21ec0644-7313-49e8-b241-d8732081a7e9",
   "metadata": {},
   "outputs": [],
   "source": [
    "del images_tages[0]"
   ]
  },
  {
   "cell_type": "code",
   "execution_count": 52,
   "id": "28437676-dccd-4e49-ab4a-c3327a44df8e",
   "metadata": {},
   "outputs": [],
   "source": [
    "for i in images_tages:\n",
    "    images_url = i['src']\n",
    "    image_data = requests.get(images_url).content\n",
    "    with open(os.path.join(save_dir , f\"{query}_{images_tages.index(i)}.jpg\"), \"wb\") as f :\n",
    "        f.write(image_data)\n",
    "    \n",
    "    \n",
    "    "
   ]
  },
  {
   "cell_type": "code",
   "execution_count": 53,
   "id": "30f625a9-9f1a-4a2f-befa-98cd8973f13f",
   "metadata": {},
   "outputs": [
    {
     "data": {
      "text/plain": [
       "b'\\xff\\xd8\\xff\\xe0\\x00\\x10JFIF\\x00\\x01\\x01\\x00\\x00\\x01\\x00\\x01\\x00\\x00\\xff\\xdb\\x00\\x84\\x00\\t\\x06\\x07\\x08\\x07\\x06\\t\\x08\\x07\\x08\\n\\n\\t\\x0b\\r\\x16\\x0f\\r\\x0c\\x0c\\r\\x1b\\x14\\x15\\x10\\x16 \\x1d\"\" \\x1d\\x1f\\x1f$(4,$&1\\'\\x1f\\x1f-=-157:::#+?D?8C49:7\\x01\\n\\n\\n\\r\\x0c\\r\\x1a\\x0f\\x0f\\x1a7%\\x1f%77777777777777777777777777777777777777777777777777\\xff\\xc0\\x00\\x11\\x08\\x00\\x8c\\x00\\x92\\x03\\x01\"\\x00\\x02\\x11\\x01\\x03\\x11\\x01\\xff\\xc4\\x00\\x1b\\x00\\x00\\x02\\x03\\x01\\x01\\x01\\x00\\x00\\x00\\x00\\x00\\x00\\x00\\x00\\x00\\x00\\x00\\x03\\x01\\x02\\x04\\x05\\x06\\x07\\xff\\xc4\\x00>\\x10\\x00\\x01\\x03\\x02\\x02\\x05\\n\\x04\\x03\\x06\\x07\\x00\\x00\\x00\\x00\\x00\\x01\\x00\\x02\\x03\\x04\\x11!1\\x05\\x12AQ\\xb1\\x13\\x14\\x154as\\x81\\x91\\x92\\xd1\"STq23\\xa1#$B\\x93\\xc1\\xf0\\x06Ccr\\xa2\\xe1\\xf1\\xff\\xc4\\x00\\x19\\x01\\x01\\x01\\x01\\x01\\x01\\x01\\x00\\x00\\x00\\x00\\x00\\x00\\x00\\x00\\x00\\x00\\x00\\x02\\x01\\x03\\x04\\x05\\xff\\xc4\\x00 \\x11\\x00\\x03\\x01\\x00\\x02\\x02\\x03\\x01\\x01\\x00\\x00\\x00\\x00\\x00\\x00\\x00\\x00\\x01\\x02\\x11\\x03\\x12!1\\x04AQ\"\\x13\\xff\\xda\\x00\\x0c\\x03\\x01\\x00\\x02\\x11\\x03\\x11\\x00?\\x00\\xfa\\xbcT\\xb0sX\\x1d\\xc8E\\xf9m\\xfe\\x01\\xb9Y\\xb4\\xf4\\xe1\\xc0\\x9ax\\xbd\\x01i\\xa6\\x17\\xa5\\x80[\\x0eI\\xbc\\x12\\x8f\\xe2 .\\xb1\\xe5a\\xc7\\x91c\\xec_\\x9b\\xd3\\x91qO\\x15\\xbf\\xd8=\\x94\\x9aj{\\xf5x}\\x01D7\\xbf\\xe2\\x04m\\xb8N%sk\\x19\\xd6^\\xad\\x15\\xcd\\xa9\\xf6\\xd3C\\xfc\\xb0\\x8ekM\\xf2\"\\xfeXM\\xbe\\xf4,4O5\\xa7\\x07\\xab\\xc3\\xe8\\x1e\\xcaE-9\\xca\\x9e\\x1f@N\\x168\\x95b0\\xc7$\\x06~iO\\xf4\\xf0\\xfa\\x07\\xb29\\xad?\\xd3\\xc3\\xe8\\t\\xd6\\xec\\xb0Q\\x86\\xe4\\x02\\x8d-=\\x87\\xee\\xf0\\xfa\\x07\\xb2\\x8emO\\xf4\\xf0\\xfa\\x07\\xb2vj\\x10\\n\\xe6\\xd4\\xff\\x00O\\x0f\\xa0{)\\xe6\\xd4\\xff\\x00\"/@LB\\x01|\\xda\\x9f\\xe9\\xe1\\xfeXG5\\x83e4^\\x80\\x98\\x84\\x02\\xf9\\xac\\x1fM\\x17\\xa0#\\x9a\\xd3\\xfd4^\\x80\\x980Sr\\x80\\xf2U\\xb4\\xd0\\xf3\\xc9\\xff\\x00w\\x8f\\xf3\\x1d\\xfc\\x03z\\x13+z\\xe4\\xfd\\xe3\\xb8\\xa8@zZG\\x1ek\\x07t\\xde\\n\\x8einy+\\xd2\\xf5X;\"h\\xfd\\x13\\x15*\\xc2j{\\x0b\\x832\\x9b\\x82\\x84,oM\\x95\\x8b\\t!\\x01&\\xa2\\xae\\x9e\\x904\\xd4\\xca\\xd6\\x07\\x9b7X\\xe6VS\\xa74`\\x00\\x9a\\xc8\\xda-|o\\x96&\\xff\\x00\\xf1>K\\r\\x1f\\xa4)f\\xa8cE5Y\\xa7{M\\xf5\\x867\\xf0X\\x86\\x8d\\xd2&G8\\xe9g\\x9b\\x96\\xbbT4\\x80\\xdb\\x1c@\\xc6\\xf6=\\xbe\\xf7x\\xd2\\xfa<\\x83j\\x86\\xd8\\x1b\\x17j\\x9b^\\xe0n\\xdeG\\x9a\\xd7KQ\\x15U3\\'\\xa6\\x90I\\x13\\xc5\\xd8\\xe1\\x91@c\\xa4\\xd1\\xb5\\xb0\\xd4\\xb2I\\xb4\\x9b\\xe5\\x89\\xa2\\xc6\\'\\x0c\\xce\\xa8\\x19\\xde\\xf9\\x8b\\xf8\\x95\\xd0J\\xa8\\xa8d.n\\xbb]\\x88\\xccoJ\\x8e\\xbb\\x94\\x9cF\\x19\\x81\\xc8\\xed\\xba\\x87\\xc9)\\xe6\\x96\\xa2\\x9a\\xdc4\\xa1IP\\xac\\x80B\\x16]!F\\xea\\xc65\\xad\\xa9\\x96\\x0b_\\x18\\xcd\\x8e;~\\xff\\x00\\xf6\\x80\\xd6\\xa1sh\\xf4S\\xe9\\xaa\\xc4\\xe7H\\xd5\\xca\\xd1\\xacLR:\\xed7\\x16\\xfd\\x17I\\x00!\\x08@yz\\xde\\xb9?x\\xee*\\x14\\xd6\\xf5\\xc9\\xfb\\xc7qP\\x80\\xf4\\xb4\\x98\\xd1\\xc1\\xd9\\x13m\\xe4\\x13;R\\xa9\\xeeha\\xd58\\xf2m?\\xa0Q\\x1b\\xaclN\\n\\x94\\xe9.\\xb1\\xe39\\xa7Ei\\rr[\\xa6\\xaa\\x00$\\x9dW6\\xf9\\xea\\xe1\\xf6\\xf8O\\xa8\\xae\\xce\\xdc\\x14!IEd\\x86)K\\x1d,L{\\x98n\\xc79\\xa0\\x96\\x9e\\xcd\\xd9\\x04\\x8e\\x8f\\xa2\\xb0\\x1c\\xce\\x9a\\xc2\\xf6\\x06&\\xe1\\x8d\\xf7o\\xc5j\\x088\\x1c\\xb1@g\\x1a>\\x88\\x029\\xad8\\x071\\xc97\\x1f\\xd15\\x91\\xb2&5\\x911\\xaccrkE\\x80\\xf0W\\xbaC\\xab)\\x9b{\\xd4Cq\\xb0H.J0SHjr \\xb9\\xb7u\\xec\\xd23\\x0b\\x059`\\x99\\xa6K\\x86\\xed \\xda\\xca\\x93\\xd6\\xc5;\\xcb\\xc4\\xd1\\x96\\xb7!\\xae0\\x1f\\xdd\\x92\\xa3\\x95\\xb29\\xcdh?\\x0e\\xdb`~\\xc7j\\xf9\\xdc\\x95\\xda\\xfb#\\xdb\\x13\\x93\\x8c\\xf4\\x17\\xbe7\\xc0\\xe4P\\xb1AW\\x055\\x1b\\x9f#\\xf5[\\x1bK\\x9f\\x9e\\x03\\xfa\\xa4\\x8f\\xf1\\x0e\\x8c-k\\xb9g5\\xae\\xfc.tn\\x00\\xe0\\xe3\\x86\\x1b\\x9a\\xef%\\xef\\x8a\\xec\\xb4\\xf2T\\xf5xt\\xd0\\x97=D\\x14\\xeekj\\'\\x8a\"\\xe0Ku\\xde\\x1b{gk\\xee\\xb8\\xf3Ku}\\x13/\\xafYL\\xdbgy[\\x86}\\xbd\\x87\\xc8\\xaa$\\xd0\\x85\\x89\\xdaA\\xb7\\xfd\\x9bK\\x9b\\xb0\\x93e\\xb5\\x8e\\x0f`sqiQ75\\xe12\\xaa*}\\x82\\x10\\x85d\\x9e^\\xb7\\xaeO\\xde;\\x8a\\x855\\xbdr~\\xf1\\xdcT =%\\'T\\x83\\xbao\\x05\\x122\\xc4\\x91\\xb9M\\'T\\x83\\xbao\\x04\\xd2\\x03\\xb08\\x85\\xa9\\xe15:\\x84\\x07:\\xd6i\\xb2\\xb3\\\\XHzcch7\\x03\\xcdC\\xd8\\x1cI\\xc8\\xab\\xec\\x99\\ni\\x03da8\\x9b \\xca\\xd3\\xff\\x00\\x89$X\\xd9B\\xde\\x88\\x9f\\xf5f\\x86\\xb88\\\\.5n\\x8c\\xa6\\x8af\\xca\\xc8@\\x0ev\\xbeg\\x07\\x03u\\xd1qxk\\xb97j\\xb8\\x8c\\xec\\xb9\\xf2K$\\x96\\x0f\\x90\\xba\\xcb\\xc9\\xf2\\xbf\\x95\\x87\\xaf\\xe3>\\xcfL\\x9c\\xc6\\x9a\\xc4rw\\x04X\\x82I\\xbeY\\xf9\\x0f$\\xf6\\x80\\xd6\\x86\\x8c\\x86Iu3r\\x14\\xb2\\xcf\\xaa]\\xc9\\xb0\\xbfTfl\\x17;\\xa6\\x80\\x95\\xf1\\x9aY\\x06\\xa4\\xaf\\x8f\\xe26\\xbd\\xb6\\x8d\\xf7\\xbd\\xfc\\x0e\\xe5\\xe0I\\xb3\\xdb\\xa9\\x1db\\x01\\xcc\\x05x\\xa41\\xde\\xcdc\\x81\\xcc9\\xb7\\x0b\\x15\\rp\\xabt\\xe0D\\xf8\\xccN\\r\\xf8\\x87\\xe2\\xb8\\xccx\\xdcx-H\\x9b\\x97\\xe0b\\xa3K\\xe0\\xa7\\xd2\\xa4\\n\\xbav\\x93\\x13N\\xa1\\xd8/k\\xe1\\xe0<\\x96Z\\xdd\\x11\\x04\\xd1\\xba9\\xe8\\xa3|B\\xe2\\xee\\xc7\\x0b\\x93\\xbf\\xb4\\xf8`\\xb0Q\\xd2\\xe9\\x86\\xcc\\xc0t\\xbbZ5KO\\xec\\x86?\\x0e\\x17\\xf1\\xc5o\\x9e\\x93K\\xd4k0i6\\x86\\xf2z\\xa061\\x8b\\xad\\x9d\\xed\\x9ff\\xcc\\x17\\xb2e\\xdcn\\x9eJ\\xa9\\x8b\\xc3f\\x8e\\x85\\xae%\\xceh!\\x96\\x00.\\x96\\xcbo\\xc9s\\xf4m%]+\\x9c*j\\xc4\\xcc7\\xd5h`\\x16:\\xc7\\x1c\\x06\\xeb\\x0f\\x05\\xd1\\x18\\xe1\\xb3\\xec\\xba\\xf1GI\\xc29/\\xb3*\\x85 ]M\\x82\\xe8A\\xe5kz\\xe4\\xfd\\xe3\\xb8\\xa8SZ?}\\xa8\\xef\\x1d\\xc5\\x08\\x0fGI\\xd5 \\xee\\x9b\\xc19*\\x93\\nH-\\xf2\\x9b\\xc16\\xfd\\xa8\\x02\\xd6K\\x91\\xd6\\x18f\\x87J1\\xd5\\xbf\\xdd(\\x92s]&\\x7fNWk1\\x06\\xd5\\n\\xafk\\x9c\\x06\\xab\\x8bH \\xdcm\\xecY\\x9d\\xf0\\xb8Fj\\x1f\\xac0\\xc4x\\xae\\xb8y\\xdb5\\xa5\\x98c/\\xd7 \\xdfr\\xa4ms\\xc3^&qi\\xb1\\x00\\x84\\xf55*\\xbd\\x954\\xd7\\xa3\\x98s(W\\x99\\xba\\xb2\\xbcv\\xaa/\\x87k)\\xa6}\\xb8i\\xca\\x05f1\\xcf6hDl2:\\xc0}\\xce\\xe5\\xbe(\\xc3\\x1b`<w\\xae\\xff\\x00\\x1f\\xe3\\xbeG\\xaf\\xd1\\xc7\\x9f\\x9dq\\xac^\\xc8\\x8d\\xad\\x8d\\x8dk\\xb5o\\xbc\\xa65\\xd6psH\\xb8\\xcbr\\xc7R\\xf8\\xe4\\xb8\\r\\xc5\\xa4\\x8b\\xb9\\xa6\\xd8\\xa7\\xc1#\\x1c5\\x19\\x7f\\x84cv\\xdb\\xfb\\xcd}e),G\\xc9v\\xdb\\xd3\\x0c:\"\\xa4\\xd3\\x16t\\xc5i~E\\xe5\\xc6\\xe3\\x02\\x0e\\xdf\\xb7\\xda\\xca\\xcd\\xd0ub\\xe5\\xdar\\xb8\\x82n|\\xef\\x868.\\x9coku\\x816;\\x93c\\x7f(\\xd3m\\x8b\\x8d,g\\xaa^\\xa2\\xe5\\xd9\\x1b\\xe0\\xab!\\xd5e\\xc6jo\\x82\\x93\\xf16\\xc7j\\x92\\x99\\xe3\\xeb^\\xeey>\\'\\xf3\\x1d\\xc5\\n\\xf5\\x91\\xb8VN-\\xfec\\xb8\\xa9]\\x7f\\x93\\x8eQ\\xe8\\xa9\\xa4h\\xa4\\x82\\xd7\\'\\x93o\\x05%\\xe4\\xa5\\xd2F\\xeek\\x0e\\x16\\xfd\\x9bs\\xfb&\\xbd\\x9a\\xa0\\x1b\\xedD\\xa5\\x19N\\x99U\\x08B\\xe8r\\x04x!\\x08\\x01\\x08B\\x03-c-g\\xef\\xc1f]\\tY\\xca0\\x8d\\xbb\\x17?%\\xf2\\xbe_\\x1e^\\xfe\\x9fS\\xe2rlc\\xfa7R\\xdb\\x91o\\x88NK\\x84j\\xc4\\xd1\\x96\\n\\xeb\\xe9q\\xac\\x84\\x8f\\x9d\\xc8\\xf6\\xdb\\x04\\x13\\xb4\\xec\\x08P\\xe1v\\x91\\xbcYY\\x04\\xa6\\xc2n\\\\\\xdf\\x14\\xa5f\\x1dW\\x87_ T\\xd2\\xd4T<c\\xdaC\\xb2\\xd8\\xac-\\xb6\\xeb+I\\x04\\x10qZ\\x1a\\xf6\\xda\\xe4\\x81lJ\\xe7S\\x87y\\xbd<\\xc5n\\xaf<\\x9f?\\xccw\\x14*\\xd6=\\x86\\xaes\\xac1\\x91\\xdcP\\xa7\\x19Z\\x8fKH\\x074\\x83\\xbao\\x05Y]w[`E;\\xb5h\\xe1?\\xe97\\x82\\xa2\\xb8^t\\xe7\\xc9^0\\x10\\x84.\\xa7\\x00B\\x10\\x80\\x10\\x84 %e12)u\\xe4p\\xd4.\\x00g\\x99 \\x0f\\xd5iU\\x926J\\xc2\\xc9X\\xd7\\xb0\\xe6\\xd74\\x10T\\\\*\\xcd\\xfa.-\\xce\\xe7\\xd9\\xc2\\xa3\\xd2\\xfa\\xb5\\x01\\xd5:J\\x95\\xf0\\x96\\x97j5\\xa48\\x0c\\xef{ns<\\x97\\xa0+9\\xa2\\xa4sl\\xeaJr;ao\\xb2\\xd0\\xb6S2\\x9a~\\x88B\\x10\\xa8\\x90VnvvE@\\x1b\\x14\\xb9\\xa5\\xa4\\x03lr\\xb2\\xc7\\xf8R\\xd5\\xe4\\x83\\x81\\xb2\\x8clS\\xad\\xcaF\\x0f\\xf1oJX\\x9e\\x8a\\x97>O3Yny?x\\xee*\\x14V\\xf5\\xc9\\xfb\\xc7qB\\x03\\xd2S\\xbbZ\\x9a\\r\\xc26\\xd8x\\x05t\\xaaN\\xab\\x0fv\\xde\\x015jX\\x8coX!\\x08Z`e\\x9a\\xa8\\x962l\\x1e\\xdb\\xfd\\xd4\\xbe\\xfa\\x86\\xc2\\xf8dv\\xac\\xc27_\\xf2[k\\xe3\\xda<\\xd0\\xc6ik\\xda\\xe3f\\xb8\\x1c/\\x81\\xd8\\xa5&\\x069\\xaf\\xb9\\x85\\x8c\\xf8mv\\xfe\\xbe\\x18\\'!\\xa8\\x10\\x84 %B\\x10\\x80\\x10\\x84 \\x0f\\xb2dd8j8%\\xa9\\x18\\x1b\\x8c\\xd65\\xa5K\\xc2\\xe0\\x98\\x89\\x0e\\x1f\\t\\xda\\xa9\\xb7\\x03t\\xec$f9\\x1d\\x89\\x16-6r\\x89\\xf6]\\xaf\\x07\\x99\\xad\\xeb\\x93\\xf7\\x8e\\xe2\\xa1\\x15\\xbdr~\\xf1\\xdcP\\xa8\\x83\\xd1\\xd2\\x03\\xcda\\xee\\xdb\\xc0&l\\xba\\xf30T\\x99!d\\xa5\\x8d\\x0e-c\\xee\\x0b\\xb3\\r\\xb6\\xfd\\xc5Y\\xd5\\x12\\x10F\\xbb\\xefl\\x0f(\\xeb\\x8c>\\xe9\\xa3\\xa9\\xe9lT/8\\xd9\\xde\\xd9Z\\xfb\\xbc\\x90\\xeday\\x1ewv\\xe5\\x82\\x81!dm\\xd5\\xd6\\x1a\\xa2\\xd6\\x12<\\x7fT\\xd1\\xd4\\xf4\\xa8^s\\x9dH\\xcc[{:\\xe0\\x82\\xf7\\x11\\x8f\\x8al:FhZZ\\xd6\\xb5\\xc0\\xe3\\xf1\\x97;\\x89[\\xa3\\xa9\\xddB\\xe2\\xf4\\xc5G\\xcb\\x8b\\xc8\\xfb\\xa3\\xa6*>\\\\^G\\xdd4\\x9c;H\\\\^\\x98\\xa8\\xf9qy\\x1ftt\\xc5G\\xcb\\x8b\\xc8\\xfb\\xa6\\x8cgi\\x0b\\x8b\\xd3\\x15\\x1f./#\\xee\\x8e\\x98\\xa8\\xf9qy\\x1ft\\xd1\\x8c\\xed!qzb\\xa3\\xe5\\xc5\\xe4}\\xd1\\xd3\\x15\\x1f./#\\xee\\x9a1\\x9d\\xa5+\\x89\\xd3\\x15\\x1f./#\\xee\\x8e\\x98\\xa8\\xf9qy\\x1ft\\xd1\\x8c\\xee\\xc6\\xfd\\\\\\x0eJ\\xf2\\x80A;w\\xaf?\\xd2\\xf5\\x1f./#\\xee\\xa3\\xa6\\xaa\\x7f\\x0e\\xa4V\\xfb\\x1fu\\ry\\xd3\\xac\\xd7\\x8c1\\xd6\\x8f\\xdf\\'\\xef\\x1d\\xc5B\\xe6\\xd5i)MT\\xc4\\xb2<^\\xed\\x87\\x7f\\xdd\\x0bu\\x19\\xd4\\xff\\xd9'"
      ]
     },
     "execution_count": 53,
     "metadata": {},
     "output_type": "execute_result"
    }
   ],
   "source": [
    "requests.get(images_tages[1]['src']).content"
   ]
  },
  {
   "cell_type": "code",
   "execution_count": 54,
   "id": "c0781000-909c-484a-ba82-6596d43c6119",
   "metadata": {},
   "outputs": [],
   "source": [
    "import requests\n",
    "from bs4 import BeautifulSoup\n",
    "from urllib.request import urlopen as uReq\n",
    "import os\n",
    "\n",
    "save_dir = \"images/\"\n",
    "\n",
    "if not os.path.exists(save_dir):\n",
    "    os.makedirs(save_dir)\n",
    "\n",
    "query = \"india seven wonders\"\n",
    "response = requests.get(f\"https://www.google.com/search?q={query}&sxsrf=AJOqlzUuff1RXi2mm8I_OqOwT9VjfIDL7w:1676996143273&source=lnms&tbm=isch&sa=X&ved=2ahUKEwiq-qK7gaf9AhXUgVYBHYReAfYQ_AUoA3oECAEQBQ&biw=1920&bih=937&dpr=1#imgrc=1th7VhSesfMJ4M\")\n",
    "\n",
    "\n",
    "soup = BeautifulSoup(response.content, 'html.parser')\n",
    "\n",
    "images_tags = soup.find_all(\"img\")\n",
    "\n"
   ]
  },
  {
   "cell_type": "code",
   "execution_count": 55,
   "id": "dc3521ea-7f1f-4ec9-a590-d5a51bb6a2dd",
   "metadata": {},
   "outputs": [
    {
     "name": "stdout",
     "output_type": "stream",
     "text": [
      "[<img alt=\"\" class=\"DS1iW\" src=\"https://encrypted-tbn0.gstatic.com/images?q=tbn:ANd9GcTvnQZ4BsmnorE4xU_8BSYp4NRftTzoBFjvCYouHQfSWL_KlI-zLq9kKnw5hQ&amp;s\"/>, <img alt=\"\" class=\"DS1iW\" src=\"https://encrypted-tbn0.gstatic.com/images?q=tbn:ANd9GcS9qKrW2ic8lMrtWgw7CxM-hmbzUw70Oe7nQSVEs_Sx-cBAcZNGqJCsVkhVKpU&amp;s\"/>, <img alt=\"\" class=\"DS1iW\" src=\"https://encrypted-tbn0.gstatic.com/images?q=tbn:ANd9GcTkDNPOyvIff2H4xvlh1RNUkCkZCsY4QwWm5kCb7sRk44Ezczyhq32JxmmDx6E&amp;s\"/>, <img alt=\"\" class=\"DS1iW\" src=\"https://encrypted-tbn0.gstatic.com/images?q=tbn:ANd9GcQ2lVeC09TxPIxSZUKnLVDFjJNdiX2Cc-3b7-YfWpYpqkRSBmOn4kJyd-Zvmg&amp;s\"/>, <img alt=\"\" class=\"DS1iW\" src=\"https://encrypted-tbn0.gstatic.com/images?q=tbn:ANd9GcTC6k5XWa4_WjbSkPoKFpgfd_USMYEuWSim-EwFfZt7NVZRgqQbKnQSZFO7eQ&amp;s\"/>, <img alt=\"\" class=\"DS1iW\" src=\"https://encrypted-tbn0.gstatic.com/images?q=tbn:ANd9GcQaIf8ARb4fdNozKcLVwMvH6nAZm6k9gpfqVbXAkYi836jodGAVS2ZpE-LicA&amp;s\"/>, <img alt=\"\" class=\"DS1iW\" src=\"https://encrypted-tbn0.gstatic.com/images?q=tbn:ANd9GcQbtxxCj8JOsmguUWLtz82B4a-uAY3VrkMPFC6Nv6R-kkCOXrvpDOagrHVcEg&amp;s\"/>, <img alt=\"\" class=\"DS1iW\" src=\"https://encrypted-tbn0.gstatic.com/images?q=tbn:ANd9GcQJmjHh0XnO-hu3pHrvGEH2xqdB4sfRtHXCiUz8Y4uzp_ipJsYDUUUYZSGkoZ0&amp;s\"/>, <img alt=\"\" class=\"DS1iW\" src=\"https://encrypted-tbn0.gstatic.com/images?q=tbn:ANd9GcRKN5bkn8dU0gPlL9UKui8IdBmkp6qkEMtPz5M9aYUAvVlbiSeOLJFKwLIccx8&amp;s\"/>, <img alt=\"\" class=\"DS1iW\" src=\"https://encrypted-tbn0.gstatic.com/images?q=tbn:ANd9GcSWAKMjwI5-rwAb6Wig4UHTigkretT8gZBAhjbfCXe_Ne1DsKm-nd9g_IlkYA&amp;s\"/>, <img alt=\"\" class=\"DS1iW\" src=\"https://encrypted-tbn0.gstatic.com/images?q=tbn:ANd9GcTZB4NigLcltrb7kadyPgg9ab7LA2NPfzyj-fOCr6sCYR7G3hQSNu47HhRCeeU&amp;s\"/>, <img alt=\"\" class=\"DS1iW\" src=\"https://encrypted-tbn0.gstatic.com/images?q=tbn:ANd9GcTQgVyQ0LFUu-6qQKVNs03VimAmtGyHvgh6KDIopE4GkYR26F_2x342TR8Crg&amp;s\"/>, <img alt=\"\" class=\"DS1iW\" src=\"https://encrypted-tbn0.gstatic.com/images?q=tbn:ANd9GcQ3Xp19E4Y5njKBpadMb2bMaHX1lKWkC1X23fKCMctohA06QDZtVmbuWBBDzg&amp;s\"/>, <img alt=\"\" class=\"DS1iW\" src=\"https://encrypted-tbn0.gstatic.com/images?q=tbn:ANd9GcS4uGM0XDVES8oePd5uEdGw-0iIUacW6pjI9AMPDwFr6jwvH9eSjdXyrSAO8Ww&amp;s\"/>, <img alt=\"\" class=\"DS1iW\" src=\"https://encrypted-tbn0.gstatic.com/images?q=tbn:ANd9GcSf8YUYsxaohTkAJo-Of3wVwEbxra4bz7ZkFw_WnFVoXjY0YNTjwZuZ_pOHmR4&amp;s\"/>, <img alt=\"\" class=\"DS1iW\" src=\"https://encrypted-tbn0.gstatic.com/images?q=tbn:ANd9GcRStq_4Xm8gbNPfNZcw5ivOiqlorhz-p0V_-x4P-N-YdhbRC_z2LLP-E-Uae0c&amp;s\"/>, <img alt=\"\" class=\"DS1iW\" src=\"https://encrypted-tbn0.gstatic.com/images?q=tbn:ANd9GcTYfmIPttzkwb7aqAFUA4HFwS2UGd9qGf_JgTaGg5tFPvTOtzwKmi0oi4TtpQ&amp;s\"/>, <img alt=\"\" class=\"DS1iW\" src=\"https://encrypted-tbn0.gstatic.com/images?q=tbn:ANd9GcTHiW5blmb7AWM_aNmD0ia74JTDH3eMxO_nbC2wO0h8nGqGF4TxXOQ5Sm-IKg&amp;s\"/>, <img alt=\"\" class=\"DS1iW\" src=\"https://encrypted-tbn0.gstatic.com/images?q=tbn:ANd9GcQU3yASa1f1f0h622HwFhCQABp6Gyd5Hs0Wq26MvMlLceSrvFTtZyuj5F-jkIg&amp;s\"/>, <img alt=\"\" class=\"DS1iW\" src=\"https://encrypted-tbn0.gstatic.com/images?q=tbn:ANd9GcQJaPAJRrdcdaeacRx_o1zLhfrQ3JEzsvcQNj1Pt84j88PWOnskYbXDqQaB6Q&amp;s\"/>]\n"
     ]
    }
   ],
   "source": [
    "del images_tags[0]\n",
    "\n",
    "print(images_tags)\n",
    "\n"
   ]
  },
  {
   "cell_type": "code",
   "execution_count": 56,
   "id": "9684a7d6-8ecb-4c4b-a7c6-9d3dd82536c6",
   "metadata": {},
   "outputs": [],
   "source": [
    "\n",
    "for i in images_tags:\n",
    "    images_url = i['src']\n",
    "    image_data = requests.get(images_url).content\n",
    "    with open(os.path.join(save_dir, f\"{query}_{images_tags.index(i)}.jpg\"), \"wb\") as f:\n",
    "        f.write(image_data)\n"
   ]
  }
 ],
 "metadata": {
  "kernelspec": {
   "display_name": "Python 3 (ipykernel)",
   "language": "python",
   "name": "python3"
  },
  "language_info": {
   "codemirror_mode": {
    "name": "ipython",
    "version": 3
   },
   "file_extension": ".py",
   "mimetype": "text/x-python",
   "name": "python",
   "nbconvert_exporter": "python",
   "pygments_lexer": "ipython3",
   "version": "3.8.8"
  }
 },
 "nbformat": 4,
 "nbformat_minor": 5
}
